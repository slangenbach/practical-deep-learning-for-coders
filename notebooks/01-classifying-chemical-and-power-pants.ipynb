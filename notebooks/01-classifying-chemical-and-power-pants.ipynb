{
 "cells": [
  {
   "attachments": {},
   "cell_type": "markdown",
   "metadata": {},
   "source": [
    "# It is a chemical plant?\n",
    "\n",
    "Identifying images of chemical- and power plants using the fastai library."
   ]
  },
  {
   "attachments": {},
   "cell_type": "markdown",
   "metadata": {},
   "source": [
    "## Setup"
   ]
  },
  {
   "cell_type": "code",
   "execution_count": null,
   "metadata": {},
   "outputs": [],
   "source": [
    "# noqa: ruff[F405]\n",
    "\n",
    "from pathlib import Path\n",
    "from fastcore.all import *\n",
    "from fastai.vision.all import *\n",
    "from time import sleep\n",
    "from duckduckgo_search import ddg_images\n",
    "from fastdownload import download_url\n",
    "import timm"
   ]
  },
  {
   "cell_type": "code",
   "execution_count": null,
   "metadata": {},
   "outputs": [],
   "source": [
    "ROOT_PATH = Path.cwd().parent\n",
    "DATA_PATH = ROOT_PATH / \"data\"\n",
    "DATA_PATH.mkdir(exist_ok=True)"
   ]
  },
  {
   "attachments": {},
   "cell_type": "markdown",
   "metadata": {},
   "source": [
    "Fix VSCode Jupyter extension not displaying output of learner"
   ]
  },
  {
   "cell_type": "code",
   "execution_count": null,
   "metadata": {},
   "outputs": [],
   "source": [
    "from IPython.display import clear_output, DisplayHandle\n",
    "\n",
    "\n",
    "def update_patch(self, obj):\n",
    "    clear_output(wait=True)\n",
    "    self.display(obj)\n",
    "\n",
    "\n",
    "DisplayHandle.update = update_patch"
   ]
  },
  {
   "attachments": {},
   "cell_type": "markdown",
   "metadata": {},
   "source": [
    "## Get images of chemical plants and power plants"
   ]
  },
  {
   "cell_type": "code",
   "execution_count": null,
   "metadata": {},
   "outputs": [],
   "source": [
    "def search_images(term: str, max_images: int = 200) -> L:\n",
    "    \"\"\"Search images using DuckDuckGo.\"\"\"\n",
    "    return L(ddg_images(keywords=term, max_results=max_images)).itemgot(\"image\")"
   ]
  },
  {
   "cell_type": "code",
   "execution_count": null,
   "metadata": {},
   "outputs": [],
   "source": [
    "def download_and_show_image(url: str, image_name: str, dest: str):\n",
    "    \"\"\"Download ans show a thumbnail of an image\"\"\"\n",
    "    download_url(url=url, dest=f\"{dest}/{image_name}.jpg\", show_progress=False)\n",
    "    image = Image.open(f\"{dest}/{image_name}.jpg\")\n",
    "    return image.to_thumb(256, 256)"
   ]
  },
  {
   "cell_type": "code",
   "execution_count": null,
   "metadata": {},
   "outputs": [],
   "source": [
    "chemical = search_images(term=\"chemical plant\", max_images=1)"
   ]
  },
  {
   "cell_type": "code",
   "execution_count": null,
   "metadata": {},
   "outputs": [],
   "source": [
    "power = search_images(term=\"power plant\", max_images=1)"
   ]
  },
  {
   "cell_type": "code",
   "execution_count": null,
   "metadata": {},
   "outputs": [],
   "source": [
    "download_and_show_image(\n",
    "    url=chemical[0], image_name=\"chemical\", dest=f\"{DATA_PATH}/chemical_or_not\"\n",
    ")"
   ]
  },
  {
   "cell_type": "code",
   "execution_count": null,
   "metadata": {},
   "outputs": [],
   "source": [
    "download_and_show_image(\n",
    "    url=power[0], image_name=\"power\", dest=f\"{DATA_PATH}/chemical_or_not\"\n",
    ")"
   ]
  },
  {
   "cell_type": "code",
   "execution_count": null,
   "metadata": {},
   "outputs": [],
   "source": [
    "searches = [\"chemical plant\", \"power plant\"]\n",
    "download_path = DATA_PATH / \"chemical_or_not\""
   ]
  },
  {
   "cell_type": "code",
   "execution_count": null,
   "metadata": {},
   "outputs": [],
   "source": [
    "for search in searches:\n",
    "    dest = download_path.joinpath(search)\n",
    "    dest.mkdir(exist_ok=True, parents=True)\n",
    "    download_images(dest=dest, urls=search_images(term=f\"{search} photo\"))\n",
    "    sleep(5)\n",
    "    download_images(dest=dest, urls=search_images(term=f\"{search} day photo\"))\n",
    "    sleep(5)\n",
    "    download_images(dest=dest, urls=search_images(term=f\"{search} night photo\"))\n",
    "    resize_images(\n",
    "        path=download_path.joinpath(search),\n",
    "        max_size=400,\n",
    "        dest=download_path.joinpath(search),\n",
    "    )"
   ]
  },
  {
   "cell_type": "code",
   "execution_count": null,
   "metadata": {},
   "outputs": [],
   "source": [
    "failed_images = verify_images(get_image_files(download_path))\n",
    "[Path.unlink(img) for img in failed_images]\n",
    "len(failed_images)"
   ]
  },
  {
   "attachments": {},
   "cell_type": "markdown",
   "metadata": {},
   "source": [
    "### Train model"
   ]
  },
  {
   "cell_type": "code",
   "execution_count": null,
   "metadata": {},
   "outputs": [],
   "source": [
    "data_loaders = DataBlock(\n",
    "    blocks=(ImageBlock, CategoryBlock),\n",
    "    get_items=get_image_files,\n",
    "    splitter=RandomSplitter(valid_pct=0.2, seed=1337),\n",
    "    get_y=parent_label,\n",
    "    item_tfms=[Resize(192, method=\"squish\")],\n",
    ").dataloaders(download_path)"
   ]
  },
  {
   "cell_type": "code",
   "execution_count": null,
   "metadata": {},
   "outputs": [],
   "source": [
    "data_loaders.show_batch(max_n=6)"
   ]
  },
  {
   "cell_type": "code",
   "execution_count": null,
   "metadata": {},
   "outputs": [],
   "source": [
    "timm.list_models()"
   ]
  },
  {
   "cell_type": "code",
   "execution_count": null,
   "metadata": {},
   "outputs": [],
   "source": [
    "learner = vision_learner(dls=data_loaders, arch=resnet18, metrics=error_rate)\n",
    "learner.fine_tune(3)"
   ]
  },
  {
   "cell_type": "code",
   "execution_count": null,
   "metadata": {},
   "outputs": [],
   "source": [
    "learner.lr_find()"
   ]
  },
  {
   "cell_type": "code",
   "execution_count": null,
   "metadata": {},
   "outputs": [],
   "source": [
    "learner.fine_tune(1, 0.00013182566908653826)"
   ]
  },
  {
   "attachments": {},
   "cell_type": "markdown",
   "metadata": {},
   "source": [
    "### Predict previously downloaded images"
   ]
  },
  {
   "cell_type": "code",
   "execution_count": null,
   "metadata": {},
   "outputs": [],
   "source": [
    "is_chemical, _, probs = learner.predict(\n",
    "    PILImage.create(f\"{DATA_PATH}/chemical_or_not/chemical.jpg\")\n",
    ")"
   ]
  },
  {
   "cell_type": "code",
   "execution_count": null,
   "metadata": {},
   "outputs": [],
   "source": [
    "print(f\"The image above is a {is_chemical}\", f\"I am {probs[0]:.2f} sure!\", sep=\"\\n\")"
   ]
  },
  {
   "attachments": {},
   "cell_type": "markdown",
   "metadata": {},
   "source": [
    "### Export model"
   ]
  },
  {
   "cell_type": "code",
   "execution_count": null,
   "metadata": {},
   "outputs": [],
   "source": [
    "learner.export(Path(\"models/chemical.pkl\"))"
   ]
  }
 ],
 "metadata": {
  "kernelspec": {
   "display_name": "fastai",
   "language": "python",
   "name": "python3"
  },
  "language_info": {
   "codemirror_mode": {
    "name": "ipython",
    "version": 3
   },
   "file_extension": ".py",
   "mimetype": "text/x-python",
   "name": "python",
   "nbconvert_exporter": "python",
   "pygments_lexer": "ipython3",
   "version": "3.11.3"
  }
 },
 "nbformat": 4,
 "nbformat_minor": 2
}
